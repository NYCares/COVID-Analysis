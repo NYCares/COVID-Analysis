{
 "cells": [
  {
   "cell_type": "code",
   "execution_count": 1,
   "metadata": {},
   "outputs": [],
   "source": [
    "import PyPDF2\n",
    "import tabula\n",
    "import pandas as pd\n"
   ]
  },
  {
   "cell_type": "code",
   "execution_count": 2,
   "metadata": {},
   "outputs": [],
   "source": [
    "src_file = '../data/Beneficiaries-and-Amounts-by-Region-and-County-April-2020.pdf'"
   ]
  },
  {
   "cell_type": "code",
   "execution_count": 3,
   "metadata": {},
   "outputs": [],
   "source": [
    "file = open('../data/Beneficiaries-and-Amounts-by-Region-and-County-April-2020.pdf', 'rb')\n",
    "pdfObj = PyPDF2.PdfFileReader(file)"
   ]
  },
  {
   "cell_type": "code",
   "execution_count": 4,
   "metadata": {},
   "outputs": [
    {
     "data": {
      "text/plain": [
       "1"
      ]
     },
     "execution_count": 4,
     "metadata": {},
     "output_type": "execute_result"
    }
   ],
   "source": [
    "pdfObj.numPages"
   ]
  },
  {
   "cell_type": "code",
   "execution_count": 5,
   "metadata": {},
   "outputs": [
    {
     "data": {
      "text/plain": [
       "False"
      ]
     },
     "execution_count": 5,
     "metadata": {},
     "output_type": "execute_result"
    }
   ],
   "source": [
    "pdfObj.isEncrypted"
   ]
  },
  {
   "cell_type": "code",
   "execution_count": 6,
   "metadata": {},
   "outputs": [],
   "source": [
    "page1 = pdfObj.getPage(0)"
   ]
  },
  {
   "cell_type": "code",
   "execution_count": 7,
   "metadata": {},
   "outputs": [
    {
     "data": {
      "text/plain": [
       "'April  2020\\n Cumulative, Since \\nJanuary 1, 2020 April  2020\\n Cumulative, Since \\nJanuary 1, 2020 \\n1,297,800\\n                        1,377,300\\n                        $1,694,760,000$2,525,550,00\\n0\\n1,224,300\\n                        1,296,700\\n                        $1,578,820,000$2,333,750,00\\n0\\nCapital DistrictAlbany\\n13,300\\n                             14,300\\n                             $15,920,000$24,730,000\\nColumbia\\n2,300\\n                               2,500\\n                               $2,930,000$4,820,000\\nGreene\\n2,500\\n                               2,700\\n                               $2,970,000$5,090,000\\nRensselaer\\n7,800\\n                               8,500\\n                               $9,630,000$16,060,00\\n0\\nSaratoga\\n12,800\\n                             13,600\\n                             $16,090,000$24,190,000\\nSchenectady9,200\\n                               9,800\\n                               $10,870,000$16,760,0\\n00\\nWarren\\n4,500\\n                               4,800\\n                               $5,400,000$9,240,000\\nWashington\\n3,200\\n                               3,500\\n                               $3,740,000$6,470,000\\nCapital DistrictRegional Total55,700\\n                             59,600\\n                             $67,560,000$107,350,00\\n0\\nCentral New YorkCayuga\\n4,500\\n                               4,800\\n                               $5,380,000$9,080,000\\nCortland\\n2,800\\n                               3,000\\n                               $3,320,000$6,620,000\\nMadison\\n4,400\\n                               4,700\\n                               $5,490,000$9,190,000\\nOnondaga\\n29,300\\n                             30,900\\n                             $35,170,000$52,340,000\\nOswego\\n7,700\\n                               8,400\\n                               $9,170,000$16,540,00\\n0\\nCentral New YorkRegional Total48,700\\n                             51,800\\n                             $58,520,000$93,770,000\\nFinger LakesGenesee\\n3,800\\n                               4,100\\n                               $4,470,000$7,740,000\\nLivingston\\n3,700\\n                               4,000\\n                               $4,660,000$8,060,000\\nMonroe\\n43,200\\n                             46,200\\n                             $52,790,000$81,230,000\\nOntario\\n6,500\\n                               6,900\\n                               $7,910,000$12,820,00\\n0\\nOrleans\\n2,500\\n                               2,700\\n                               $2,800,000$4,830,000\\nSeneca\\n1,900\\n                               2,000\\n                               $2,280,000$3,880,000\\nWayne\\n5,200\\n                               5,700\\n                               $6,600,000$11,430,00\\n0\\nWyoming\\n2,500\\n                               2,700\\n                               $3,020,000$5,850,000\\nYates\\n1,200\\n                               1,300\\n                               $1,490,000$2,570,000\\nFinger LakesRegional Total70,500\\n                             75,700\\n                             $86,020,000$138,420,00\\n0\\nHudson ValleyDutchess\\n15,700\\n                             16,600\\n                             $20,250,000$29,550,000\\nOrange\\n21,300\\n                             22,500\\n                             $27,250,000$40,090,000\\nPutnam\\n5,300\\n                               5,600\\n                               $7,390,000$10,790,00\\n0\\nRockland\\n13,600\\n                             14,300\\n                             $17,300,000$24,960,000\\nSullivan\\n3,900\\n                               4,200\\n                               $4,780,000$8,030,000\\nUlster\\n10,400\\n                             11,000\\n                             $13,040,000$19,630,000\\nWestchester47,400\\n                             50,500\\n                             $64,610,000$95,970,000\\nHudson ValleyRegional Total117,800\\n                           124,800\\n                           $154,610,000$229,020,000\\nLong IslandNassau\\n84,900\\n                             89,200\\n                             $115,120,000$159,160,0\\n00\\nSuffolk\\n101,900\\n                           108,100\\n                           $135,870,000$202,700,000\\nLong IslandRegional Total186,800\\n                           197,300\\n                           $250,990,000$361,860,000\\nMohawk ValleyFulton\\n2,700\\n                               3,000\\n                               $3,280,000$5,680,000\\nHerkimer\\n3,500\\n                               3,800\\n                               $4,360,000$8,180,000\\nMontgomery\\n3,100\\n                               3,400\\n                               $3,720,000$7,260,000\\nOneida\\n12,600\\n                             13,400\\n                             $14,630,000$23,000,000\\nOtsego\\n2,600\\n                               2,800\\n                               $3,120,000$6,290,000\\nSchoharie\\n1,400\\n                               1,500\\n                               $1,640,000$3,620,000\\nMohawk ValleyRegional Total25,800\\n                             28,000\\n                             $30,760,000$54,040,000\\nNew York CityBronx\\n94,900\\n                             101,000\\n                           $119,660,000$177,480,000\\nKings\\n165,800\\n                           175,200\\n                           $219,030,000$310,700,000\\nNew York\\n86,000\\n                             91,900\\n                             $123,110,000$183,940,0\\n00\\nQueens\\n185,700\\n                           192,800\\n                           $242,550,000$317,910,000\\nRichmond\\n29,000\\n                             30,600\\n                             $37,660,000$52,720,000\\nNew York CityRegional Total561,400\\n                           591,500\\n                           $742,020,000$1,042,750,0\\n00\\nNorth CountryClinton\\n4,900\\n                               5,300\\n                               $6,100,000$10,480,00\\n0\\nEssex\\n1,900\\n                               2,000\\n                               $2,370,000$4,250,000\\nFranklin\\n2,500\\n                               2,600\\n                               $2,900,000$5,160,000\\nHamilton\\n200\\n                                  200\\n                                  $270,000$610,000\\nJefferson\\n6,100\\n                               6,700\\n                               $6,860,000$13,230,00\\n0\\nLewis\\n1,300\\n                               1,500\\n                               $1,560,000$3,740,000\\nSt. Lawrence5,000\\n                               5,400\\n                               $5,730,000$10,730,00\\n0\\nNorth CountryRegional Total21,900\\n                             23,600\\n                             $25,780,000$48,200,000\\nSouthern TierBroome\\n10,700\\n                             11,500\\n                             $11,970,000$20,510,000\\nChemung\\n4,600\\n                               4,900\\n                               $5,300,000$8,100,000\\nChenango\\n2,300\\n                               2,500\\n                               $2,650,000$5,420,000\\nDelaware\\n1,700\\n                               1,900\\n                               $1,980,000$3,800,000\\nSchuyler\\n1,100\\n                               1,200\\n                               $1,460,000$2,630,000\\nSteuben\\n5,600\\n                               6,000\\n                               $6,760,000$11,260,00\\n0\\nTioga\\n2,700\\n                               2,900\\n                               $3,350,000$5,570,000\\nTompkins\\n3,900\\n                               4,100\\n                               $4,830,000$7,110,000\\nSouthern TierRegional Total32,600\\n                             35,000\\n                             $38,300,000$64,390,000\\nWestern New YorkAllegany\\n1,900\\n                               2,100\\n                               $2,150,000$4,360,000\\nCattaraugus\\n5,200\\n                               5,700\\n                               $5,920,000$10,820,00\\n0\\nChautauqua\\n8,000\\n                               8,500\\n                               $8,740,000$14,750,00\\n0\\nErie\\n68,900\\n                             72,700\\n                             $83,370,000$126,730,00\\n0\\nNiagara\\n19,300\\n                             20,400\\n                             $24,080,000$37,280,000\\nWestern New YorkRegional Total103,300\\n                           109,400\\n                           $124,260,000$193,950,000\\nOut-of-State Residents  \\n73,100\\n                             80,100\\n                             $115,410,000$190,990,0\\n00\\nUnknown Geography  \\n400\\n                                  400\\n                                  $540,000$810,000\\n1/ Less than 100.\\n\\n2/ Less than $10,000.\\n\\nSource\\n:  New York State Department of Labor\\nPrepared by\\n:  New York State Department of Labor, Division of \\nResearch and Statistics\\nNumber of Unemployment Insurance Beneficiaries and \\nBenefit Amounts Paid \\nRegular Unemployment Insurance\\nDetail may not add to total due to rounding.\\nNew York State, Region and County\\nApril 2020 and Cumulative Since January 1, 2020\\nRegionCounty\\n Number of Beneficiaries Receiving Regular \\nUnemployment Benefits  Benefits Paid - Regular Unem\\nployment Insurance \\nNew York State Including Out-of-State Residents\\n\\nNew York State Excluding Out-of-State Residents\\n'"
      ]
     },
     "execution_count": 7,
     "metadata": {},
     "output_type": "execute_result"
    }
   ],
   "source": [
    "page1.extractText()"
   ]
  },
  {
   "cell_type": "code",
   "execution_count": 8,
   "metadata": {},
   "outputs": [
    {
     "data": {
      "text/plain": [
       "dict_keys(['/Type', '/MediaBox', '/Rotate', '/Parent', '/Resources', '/Contents'])"
      ]
     },
     "execution_count": 8,
     "metadata": {},
     "output_type": "execute_result"
    }
   ],
   "source": [
    "page1.keys()"
   ]
  },
  {
   "cell_type": "code",
   "execution_count": 16,
   "metadata": {},
   "outputs": [],
   "source": [
    "df = tabula.read_pdf(src_file, pages='all')"
   ]
  },
  {
   "cell_type": "code",
   "execution_count": 10,
   "metadata": {},
   "outputs": [
    {
     "data": {
      "text/plain": [
       "[                                         Unnamed: 0  Unnamed: 1  \\\n",
       " 0                                               NaN         NaN   \n",
       " 1                                               NaN         NaN   \n",
       " 2                                     Region County         NaN   \n",
       " 3   New York State Including Out-of-State Residents         NaN   \n",
       " 4   New York State Excluding Out-of-State Residents         NaN   \n",
       " ..                                              ...         ...   \n",
       " 74                                             Erie         NaN   \n",
       " 75                                          Niagara         NaN   \n",
       " 76                  Western New York Regional Total         NaN   \n",
       " 77                           Out-of-State Residents         NaN   \n",
       " 78                                Unknown Geography         NaN   \n",
       " \n",
       "    Number of Beneficiaries Receiving Regular  \\\n",
       " 0                      Unemployment Benefits   \n",
       " 1                          Cumulative, Since   \n",
       " 2                April  2020 January 1, 2020   \n",
       " 3                        1,297,800 1,377,300   \n",
       " 4                        1,224,300 1,296,700   \n",
       " ..                                       ...   \n",
       " 74                             68,900 72,700   \n",
       " 75                             19,300 20,400   \n",
       " 76                           103,300 109,400   \n",
       " 77                             73,100 80,100   \n",
       " 78                                   400 400   \n",
       " \n",
       "                                         Unnamed: 2  \n",
       " 0   Benefits Paid - Regular Unemployment Insurance  \n",
       " 1                                Cumulative, Since  \n",
       " 2                      April  2020 January 1, 2020  \n",
       " 3                    $1,694,760,000 $2,525,550,000  \n",
       " 4                    $1,578,820,000 $2,333,750,000  \n",
       " ..                                             ...  \n",
       " 74                        $83,370,000 $126,730,000  \n",
       " 75                         $24,080,000 $37,280,000  \n",
       " 76                       $124,260,000 $193,950,000  \n",
       " 77                       $115,410,000 $190,990,000  \n",
       " 78                               $540,000 $810,000  \n",
       " \n",
       " [79 rows x 4 columns]]"
      ]
     },
     "execution_count": 10,
     "metadata": {},
     "output_type": "execute_result"
    }
   ],
   "source": [
    "df"
   ]
  },
  {
   "cell_type": "code",
   "execution_count": 21,
   "metadata": {},
   "outputs": [],
   "source": []
  },
  {
   "cell_type": "code",
   "execution_count": 23,
   "metadata": {},
   "outputs": [
    {
     "data": {
      "text/html": [
       "<div>\n",
       "<style scoped>\n",
       "    .dataframe tbody tr th:only-of-type {\n",
       "        vertical-align: middle;\n",
       "    }\n",
       "\n",
       "    .dataframe tbody tr th {\n",
       "        vertical-align: top;\n",
       "    }\n",
       "\n",
       "    .dataframe thead th {\n",
       "        text-align: right;\n",
       "    }\n",
       "</style>\n",
       "<table border=\"1\" class=\"dataframe\">\n",
       "  <thead>\n",
       "    <tr style=\"text-align: right;\">\n",
       "      <th></th>\n",
       "      <th>0</th>\n",
       "    </tr>\n",
       "  </thead>\n",
       "  <tbody>\n",
       "    <tr>\n",
       "      <th>0</th>\n",
       "      <td>Unnam...</td>\n",
       "    </tr>\n",
       "  </tbody>\n",
       "</table>\n",
       "</div>"
      ],
      "text/plain": [
       "                                                   0\n",
       "0                                           Unnam..."
      ]
     },
     "execution_count": 23,
     "metadata": {},
     "output_type": "execute_result"
    }
   ],
   "source": [
    "new_df"
   ]
  },
  {
   "cell_type": "code",
   "execution_count": null,
   "metadata": {},
   "outputs": [],
   "source": []
  }
 ],
 "metadata": {
  "kernelspec": {
   "display_name": "Python 3",
   "language": "python",
   "name": "python3"
  },
  "language_info": {
   "codemirror_mode": {
    "name": "ipython",
    "version": 3
   },
   "file_extension": ".py",
   "mimetype": "text/x-python",
   "name": "python",
   "nbconvert_exporter": "python",
   "pygments_lexer": "ipython3",
   "version": "3.7.6"
  }
 },
 "nbformat": 4,
 "nbformat_minor": 4
}
