{
 "cells": [
  {
   "cell_type": "code",
   "execution_count": 23,
   "metadata": {},
   "outputs": [],
   "source": [
    "#resolve Dependencies\n",
    "import pandas as pd\n",
    "import os\n",
    "import pymongo\n",
    "from pymongo import MongoClient"
   ]
  },
  {
   "cell_type": "code",
   "execution_count": 24,
   "metadata": {},
   "outputs": [],
   "source": [
    "file1 = ''\n",
    "file2 = ''\n",
    "file3 = ''\n",
    "file4 = ''\n",
    "file5 = ''\n",
    "\n"
   ]
  },
  {
   "cell_type": "code",
   "execution_count": 25,
   "metadata": {},
   "outputs": [
    {
     "data": {
      "text/plain": [
       "'..\\\\static\\\\data\\\\clean\\\\free_reduced_lunch_ny_county.csv'"
      ]
     },
     "execution_count": 25,
     "metadata": {},
     "output_type": "execute_result"
    }
   ],
   "source": [
    "free_reduced_src_path = os.path.join('..','static', 'data', 'clean', 'free_reduced_lunch_ny_county.csv')\n",
    "free_reduced_src_path\n",
    "\n",
    "\n",
    "\n",
    "\n",
    "\n",
    "\n"
   ]
  },
  {
   "cell_type": "code",
   "execution_count": 26,
   "metadata": {},
   "outputs": [],
   "source": [
    "free_reduced_df = pd.read_csv(free_reduced_src_path)"
   ]
  },
  {
   "cell_type": "code",
   "execution_count": 27,
   "metadata": {},
   "outputs": [
    {
     "data": {
      "text/html": [
       "<div>\n",
       "<style scoped>\n",
       "    .dataframe tbody tr th:only-of-type {\n",
       "        vertical-align: middle;\n",
       "    }\n",
       "\n",
       "    .dataframe tbody tr th {\n",
       "        vertical-align: top;\n",
       "    }\n",
       "\n",
       "    .dataframe thead th {\n",
       "        text-align: right;\n",
       "    }\n",
       "</style>\n",
       "<table border=\"1\" class=\"dataframe\">\n",
       "  <thead>\n",
       "    <tr style=\"text-align: right;\">\n",
       "      <th></th>\n",
       "      <th>id</th>\n",
       "      <th>region</th>\n",
       "      <th>population</th>\n",
       "      <th>number on program</th>\n",
       "      <th>percent of the county</th>\n",
       "      <th>percent of state</th>\n",
       "    </tr>\n",
       "  </thead>\n",
       "  <tbody>\n",
       "    <tr>\n",
       "      <th>0</th>\n",
       "      <td>0500000US36NYS</td>\n",
       "      <td>New York State</td>\n",
       "      <td>19453561</td>\n",
       "      <td>1,441,350</td>\n",
       "      <td>NaN</td>\n",
       "      <td>7.41</td>\n",
       "    </tr>\n",
       "    <tr>\n",
       "      <th>1</th>\n",
       "      <td>0500000US36NYC</td>\n",
       "      <td>New York City</td>\n",
       "      <td>8336817</td>\n",
       "      <td>775,759</td>\n",
       "      <td>NaN</td>\n",
       "      <td>3.99</td>\n",
       "    </tr>\n",
       "    <tr>\n",
       "      <th>2</th>\n",
       "      <td>0500000US36NYR</td>\n",
       "      <td>Rest of State</td>\n",
       "      <td>11116744</td>\n",
       "      <td>665,591</td>\n",
       "      <td>NaN</td>\n",
       "      <td>3.42</td>\n",
       "    </tr>\n",
       "    <tr>\n",
       "      <th>3</th>\n",
       "      <td>0500000US36047</td>\n",
       "      <td>Kings County</td>\n",
       "      <td>2559903</td>\n",
       "      <td>238,173</td>\n",
       "      <td>9.0</td>\n",
       "      <td>1.22</td>\n",
       "    </tr>\n",
       "    <tr>\n",
       "      <th>4</th>\n",
       "      <td>0500000US36081</td>\n",
       "      <td>Queens County</td>\n",
       "      <td>2253858</td>\n",
       "      <td>204,916</td>\n",
       "      <td>9.0</td>\n",
       "      <td>1.05</td>\n",
       "    </tr>\n",
       "  </tbody>\n",
       "</table>\n",
       "</div>"
      ],
      "text/plain": [
       "               id          region  population number on program  \\\n",
       "0  0500000US36NYS  New York State    19453561         1,441,350   \n",
       "1  0500000US36NYC   New York City     8336817           775,759   \n",
       "2  0500000US36NYR   Rest of State    11116744           665,591   \n",
       "3  0500000US36047    Kings County     2559903           238,173   \n",
       "4  0500000US36081   Queens County     2253858           204,916   \n",
       "\n",
       "   percent of the county  percent of state  \n",
       "0                    NaN              7.41  \n",
       "1                    NaN              3.99  \n",
       "2                    NaN              3.42  \n",
       "3                    9.0              1.22  \n",
       "4                    9.0              1.05  "
      ]
     },
     "execution_count": 27,
     "metadata": {},
     "output_type": "execute_result"
    }
   ],
   "source": [
    "free_reduced_df.head()"
   ]
  },
  {
   "cell_type": "code",
   "execution_count": 28,
   "metadata": {},
   "outputs": [],
   "source": [
    "# connect to mongodb\n",
    "client = MongoClient('mongodb://localhost:27017')"
   ]
  },
  {
   "cell_type": "code",
   "execution_count": 29,
   "metadata": {},
   "outputs": [],
   "source": [
    "#set db connection\n",
    "db = client['nycares_db']"
   ]
  },
  {
   "cell_type": "code",
   "execution_count": 30,
   "metadata": {},
   "outputs": [],
   "source": [
    "#set connection to collection\n",
    "frlp_collection = db['free_and_reduced_lunch']"
   ]
  },
  {
   "cell_type": "code",
   "execution_count": 31,
   "metadata": {},
   "outputs": [],
   "source": [
    "#create a dictionary to add mongo records\n",
    "data_as_dict = free_reduced_df.to_dict(\"records\")"
   ]
  },
  {
   "cell_type": "code",
   "execution_count": 32,
   "metadata": {},
   "outputs": [
    {
     "data": {
      "text/plain": [
       "<pymongo.results.InsertOneResult at 0x1d1a626f648>"
      ]
     },
     "execution_count": 32,
     "metadata": {},
     "output_type": "execute_result"
    }
   ],
   "source": [
    "frlp_collection.insert_one({\"index\": \"region\", \"data\":data_as_dict})"
   ]
  },
  {
   "cell_type": "code",
   "execution_count": null,
   "metadata": {},
   "outputs": [],
   "source": []
  }
 ],
 "metadata": {
  "kernelspec": {
   "display_name": "Python 3",
   "language": "python",
   "name": "python3"
  },
  "language_info": {
   "codemirror_mode": {
    "name": "ipython",
    "version": 3
   },
   "file_extension": ".py",
   "mimetype": "text/x-python",
   "name": "python",
   "nbconvert_exporter": "python",
   "pygments_lexer": "ipython3",
   "version": "3.7.6"
  }
 },
 "nbformat": 4,
 "nbformat_minor": 4
}
