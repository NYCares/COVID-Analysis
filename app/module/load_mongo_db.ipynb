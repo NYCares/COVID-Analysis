{
 "cells": [
  {
   "cell_type": "code",
   "execution_count": 1,
   "metadata": {},
   "outputs": [],
   "source": [
    "#resolve Dependencies\n",
    "import pandas as pd\n",
    "import os\n",
    "import pymongo\n",
    "from pymongo import MongoClient"
   ]
  },
  {
   "cell_type": "code",
   "execution_count": 2,
   "metadata": {},
   "outputs": [],
   "source": [
    "free_reduced_src_path = os.path.join('..','static', 'data', 'processed', 'free_reduced_lunch_ny_county.csv')\n",
    "\n",
    "ny_population_race_breakdown_src = os.path.join('..','static', 'data', 'processed', 'population_race_breakdown.csv')\n",
    "\n",
    "covid_ny_county_src_path = os.path.join('..','static', 'data', 'processed', 'covid_ny_county.csv')\n",
    "\n",
    "median_income_src_path = os.path.join('..','static', 'data', 'processed', 'median_income.csv')"
   ]
  },
  {
   "cell_type": "code",
   "execution_count": 3,
   "metadata": {},
   "outputs": [],
   "source": [
    "#read data files into frames\n",
    "free_reduced_df = pd.read_csv(free_reduced_src_path)\n",
    "\n",
    "population_race_breakdown_df = pd.read_csv(ny_population_race_breakdown_src)\n",
    "\n",
    "covid_results_df = pd.read_csv(covid_ny_county_src_path)\n",
    "    \n",
    "median_income_df = pd.read_csv(median_income_src_path)"
   ]
  },
  {
   "cell_type": "code",
   "execution_count": 4,
   "metadata": {
    "scrolled": true
   },
   "outputs": [],
   "source": [
    "# build a single master dataframe using a select set of columns from each\n",
    "# dataframe\n",
    "# #select and rename columns\n",
    "population_raw_df = population_race_breakdown_df[['County','overall','white','black','native_american','asian','pacific_islander','other', 'hispanic_latino']].add_suffix('_population')\n",
    "population_df = population_raw_df.rename(columns={'County_population': 'County'})"
   ]
  },
  {
   "cell_type": "code",
   "execution_count": 5,
   "metadata": {},
   "outputs": [],
   "source": [
    "medianincome_df = median_income_df[['County','asian','black','hispanic','native_american','other','pacific_islander','white']].add_suffix('_median_income')"
   ]
  },
  {
   "cell_type": "code",
   "execution_count": 6,
   "metadata": {},
   "outputs": [],
   "source": [
    "\n",
    "\n",
    "df1 = pd.merge(population_df,medianincome_df , how=\"left\", left_on=\"County\", right_on=\"County_median_income\")"
   ]
  },
  {
   "cell_type": "code",
   "execution_count": 7,
   "metadata": {},
   "outputs": [],
   "source": [
    "#select and rename columns\n",
    "covid_ny_raw_df = covid_results_df[['County','Date','Deaths','Cases','% of Population','% of Deaths','% of Cases']].add_prefix('covid_')\n",
    "covid_ny_df = covid_ny_raw_df.rename(columns={'covid_County':'identified_county','covid_Date': 'covid_date', 'covid_Deaths':'covid_deaths','covid_Cases':'covid_cases', 'covid_% of Deaths': 'covid_death_%','covid_% of Cases': 'covid_cases_%','covid_% of Population': 'covid%ofpopulation' })"
   ]
  },
  {
   "cell_type": "code",
   "execution_count": 8,
   "metadata": {},
   "outputs": [],
   "source": [
    "# perform merge for master analysis collection\n",
    "df2 = pd.merge(df1, covid_ny_df, how=\"left\", left_on=\"County\", right_on=\"identified_county\")"
   ]
  },
  {
   "cell_type": "code",
   "execution_count": 9,
   "metadata": {},
   "outputs": [],
   "source": [
    "# connect to mongodb\n",
    "client = MongoClient('mongodb://localhost:27017')"
   ]
  },
  {
   "cell_type": "code",
   "execution_count": 10,
   "metadata": {},
   "outputs": [],
   "source": [
    "#set db connection\n",
    "db = client['nycares_db']"
   ]
  },
  {
   "cell_type": "code",
   "execution_count": 11,
   "metadata": {},
   "outputs": [],
   "source": [
    "#create dictionaries to populate mongo collects\n",
    "\n",
    "free_as_dict = free_reduced_df.to_dict('records')\n",
    "\n",
    "population_as_dict = population_race_breakdown_df.to_dict('records')\n",
    "\n",
    "covid_results_dict = covid_results_df.to_dict('records')\n",
    "\n",
    "median_income_dict = median_income_df.to_dict('records')\n",
    "\n",
    "covid_analysis_dict = df2.to_dict('records')\n"
   ]
  },
  {
   "cell_type": "code",
   "execution_count": 12,
   "metadata": {},
   "outputs": [
    {
     "data": {
      "text/plain": [
       "<pymongo.results.DeleteResult at 0x2d9eef7ce48>"
      ]
     },
     "execution_count": 12,
     "metadata": {},
     "output_type": "execute_result"
    }
   ],
   "source": [
    "#set reference to collection\n",
    "frlp_collection = db['free_and_reduced_lunch']\n",
    "frlp_collection.delete_many({})\n",
    "\n",
    "population_race_collection = db['population_race_breakdown']\n",
    "population_race_collection.delete_many({})\n",
    "\n",
    "covid_results_collection = db['covid_results_by_county']\n",
    "covid_results_collection.delete_many({})\n",
    "\n",
    "median_income_collection = db['median_income']\n",
    "median_income_collection.delete_many({})\n",
    "\n",
    "covid_master_collection = db['covid_master_analysis']\n",
    "covid_master_collection.delete_many({})"
   ]
  },
  {
   "cell_type": "code",
   "execution_count": 13,
   "metadata": {},
   "outputs": [],
   "source": [
    "# insert documents to collections\n",
    "for record in free_as_dict:\n",
    "     frlp_collection.insert_one(record)\n",
    "    \n",
    "\n",
    "for record in population_as_dict:\n",
    "    population_race_collection.insert_one(record)\n",
    "    \n",
    "\n",
    "for record in covid_results_dict:\n",
    "    covid_results_collection.insert_one(record)\n",
    "\n",
    "    \n",
    "for record in median_income_dict:\n",
    "    median_income_collection.insert_one(record)\n",
    "    \n",
    "for record in covid_analysis_dict:\n",
    "    covid_master_collection.insert_one(record)"
   ]
  },
  {
   "cell_type": "code",
   "execution_count": 14,
   "metadata": {},
   "outputs": [],
   "source": [
    "df2.to_csv(os.path.join('..','static','data','processed','covid_master_analysis.csv'))"
   ]
  }
 ],
 "metadata": {
  "kernelspec": {
   "display_name": "Python 3",
   "language": "python",
   "name": "python3"
  },
  "language_info": {
   "codemirror_mode": {
    "name": "ipython",
    "version": 3
   },
   "file_extension": ".py",
   "mimetype": "text/x-python",
   "name": "python",
   "nbconvert_exporter": "python",
   "pygments_lexer": "ipython3",
   "version": "3.7.4"
  }
 },
 "nbformat": 4,
 "nbformat_minor": 4
}
